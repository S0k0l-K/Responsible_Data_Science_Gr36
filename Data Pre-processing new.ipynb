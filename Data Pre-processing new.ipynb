{
 "cells": [
  {
   "cell_type": "code",
   "execution_count": 2,
   "metadata": {
    "collapsed": true
   },
   "outputs": [],
   "source": [
    "import pandas as pd"
   ]
  },
  {
   "cell_type": "code",
   "execution_count": 3,
   "outputs": [
    {
     "data": {
      "text/plain": "   encounter_id  patient_id  hospital_id  hospital_death   age    bmi   \n0         66154       25312          118               0  68.0  22.73  \\\n1        114252       59342           81               0  77.0  27.42   \n2        119783       50777          118               0  25.0  31.95   \n3         79267       46918          118               0  81.0  22.64   \n4         92056       34377           33               0  19.0    NaN   \n\n   elective_surgery  ethnicity gender  height  ... aids cirrhosis   \n0                 0  Caucasian      M   180.3  ...  0.0       0.0  \\\n1                 0  Caucasian      F   160.0  ...  0.0       0.0   \n2                 0  Caucasian      F   172.7  ...  0.0       0.0   \n3                 1  Caucasian      F   165.1  ...  0.0       0.0   \n4                 0  Caucasian      M   188.0  ...  0.0       0.0   \n\n   diabetes_mellitus hepatic_failure immunosuppression  leukemia  lymphoma   \n0                1.0             0.0               0.0       0.0       0.0  \\\n1                1.0             0.0               0.0       0.0       0.0   \n2                0.0             0.0               0.0       0.0       0.0   \n3                0.0             0.0               0.0       0.0       0.0   \n4                0.0             0.0               0.0       0.0       0.0   \n\n   solid_tumor_with_metastasis  apache_3j_bodysystem  apache_2_bodysystem  \n0                          0.0                Sepsis       Cardiovascular  \n1                          0.0           Respiratory          Respiratory  \n2                          0.0             Metabolic            Metabolic  \n3                          0.0        Cardiovascular       Cardiovascular  \n4                          0.0                Trauma               Trauma  \n\n[5 rows x 186 columns]",
      "text/html": "<div>\n<style scoped>\n    .dataframe tbody tr th:only-of-type {\n        vertical-align: middle;\n    }\n\n    .dataframe tbody tr th {\n        vertical-align: top;\n    }\n\n    .dataframe thead th {\n        text-align: right;\n    }\n</style>\n<table border=\"1\" class=\"dataframe\">\n  <thead>\n    <tr style=\"text-align: right;\">\n      <th></th>\n      <th>encounter_id</th>\n      <th>patient_id</th>\n      <th>hospital_id</th>\n      <th>hospital_death</th>\n      <th>age</th>\n      <th>bmi</th>\n      <th>elective_surgery</th>\n      <th>ethnicity</th>\n      <th>gender</th>\n      <th>height</th>\n      <th>...</th>\n      <th>aids</th>\n      <th>cirrhosis</th>\n      <th>diabetes_mellitus</th>\n      <th>hepatic_failure</th>\n      <th>immunosuppression</th>\n      <th>leukemia</th>\n      <th>lymphoma</th>\n      <th>solid_tumor_with_metastasis</th>\n      <th>apache_3j_bodysystem</th>\n      <th>apache_2_bodysystem</th>\n    </tr>\n  </thead>\n  <tbody>\n    <tr>\n      <th>0</th>\n      <td>66154</td>\n      <td>25312</td>\n      <td>118</td>\n      <td>0</td>\n      <td>68.0</td>\n      <td>22.73</td>\n      <td>0</td>\n      <td>Caucasian</td>\n      <td>M</td>\n      <td>180.3</td>\n      <td>...</td>\n      <td>0.0</td>\n      <td>0.0</td>\n      <td>1.0</td>\n      <td>0.0</td>\n      <td>0.0</td>\n      <td>0.0</td>\n      <td>0.0</td>\n      <td>0.0</td>\n      <td>Sepsis</td>\n      <td>Cardiovascular</td>\n    </tr>\n    <tr>\n      <th>1</th>\n      <td>114252</td>\n      <td>59342</td>\n      <td>81</td>\n      <td>0</td>\n      <td>77.0</td>\n      <td>27.42</td>\n      <td>0</td>\n      <td>Caucasian</td>\n      <td>F</td>\n      <td>160.0</td>\n      <td>...</td>\n      <td>0.0</td>\n      <td>0.0</td>\n      <td>1.0</td>\n      <td>0.0</td>\n      <td>0.0</td>\n      <td>0.0</td>\n      <td>0.0</td>\n      <td>0.0</td>\n      <td>Respiratory</td>\n      <td>Respiratory</td>\n    </tr>\n    <tr>\n      <th>2</th>\n      <td>119783</td>\n      <td>50777</td>\n      <td>118</td>\n      <td>0</td>\n      <td>25.0</td>\n      <td>31.95</td>\n      <td>0</td>\n      <td>Caucasian</td>\n      <td>F</td>\n      <td>172.7</td>\n      <td>...</td>\n      <td>0.0</td>\n      <td>0.0</td>\n      <td>0.0</td>\n      <td>0.0</td>\n      <td>0.0</td>\n      <td>0.0</td>\n      <td>0.0</td>\n      <td>0.0</td>\n      <td>Metabolic</td>\n      <td>Metabolic</td>\n    </tr>\n    <tr>\n      <th>3</th>\n      <td>79267</td>\n      <td>46918</td>\n      <td>118</td>\n      <td>0</td>\n      <td>81.0</td>\n      <td>22.64</td>\n      <td>1</td>\n      <td>Caucasian</td>\n      <td>F</td>\n      <td>165.1</td>\n      <td>...</td>\n      <td>0.0</td>\n      <td>0.0</td>\n      <td>0.0</td>\n      <td>0.0</td>\n      <td>0.0</td>\n      <td>0.0</td>\n      <td>0.0</td>\n      <td>0.0</td>\n      <td>Cardiovascular</td>\n      <td>Cardiovascular</td>\n    </tr>\n    <tr>\n      <th>4</th>\n      <td>92056</td>\n      <td>34377</td>\n      <td>33</td>\n      <td>0</td>\n      <td>19.0</td>\n      <td>NaN</td>\n      <td>0</td>\n      <td>Caucasian</td>\n      <td>M</td>\n      <td>188.0</td>\n      <td>...</td>\n      <td>0.0</td>\n      <td>0.0</td>\n      <td>0.0</td>\n      <td>0.0</td>\n      <td>0.0</td>\n      <td>0.0</td>\n      <td>0.0</td>\n      <td>0.0</td>\n      <td>Trauma</td>\n      <td>Trauma</td>\n    </tr>\n  </tbody>\n</table>\n<p>5 rows × 186 columns</p>\n</div>"
     },
     "execution_count": 3,
     "metadata": {},
     "output_type": "execute_result"
    }
   ],
   "source": [
    "description = pd.read_csv('data/WiDS_Datathon_2020_Dictionary.csv')\n",
    "description_dict = description.set_index('Variable Name').to_dict(orient='index')\n",
    "# data\n",
    "df = pd.read_csv('data/training_v2.csv')\n",
    "\n",
    "df.head()"
   ],
   "metadata": {
    "collapsed": false
   }
  },
  {
   "cell_type": "code",
   "execution_count": 4,
   "outputs": [
    {
     "name": "stdout",
     "output_type": "stream",
     "text": [
      "['encounter_id', 'patient_id', 'hospital_id', 'hospital_death', 'age', 'bmi', 'elective_surgery', 'ethnicity', 'gender', 'height', 'hospital_admit_source', 'icu_admit_source', 'icu_id', 'icu_stay_type', 'icu_type', 'pre_icu_los_days', 'readmission_status', 'weight', 'albumin_apache', 'apache_2_diagnosis', 'apache_3j_diagnosis', 'apache_post_operative', 'arf_apache', 'bilirubin_apache', 'bun_apache', 'creatinine_apache', 'fio2_apache', 'gcs_eyes_apache', 'gcs_motor_apache', 'gcs_unable_apache', 'gcs_verbal_apache', 'glucose_apache', 'heart_rate_apache', 'hematocrit_apache', 'intubated_apache', 'map_apache', 'paco2_apache', 'paco2_for_ph_apache', 'pao2_apache', 'ph_apache', 'resprate_apache', 'sodium_apache', 'temp_apache', 'urineoutput_apache', 'ventilated_apache', 'wbc_apache', 'd1_diasbp_invasive_max', 'd1_diasbp_invasive_min', 'd1_diasbp_max', 'd1_diasbp_min', 'd1_diasbp_noninvasive_max', 'd1_diasbp_noninvasive_min', 'd1_heartrate_max', 'd1_heartrate_min', 'd1_mbp_invasive_max', 'd1_mbp_invasive_min', 'd1_mbp_max', 'd1_mbp_min', 'd1_mbp_noninvasive_max', 'd1_mbp_noninvasive_min', 'd1_resprate_max', 'd1_resprate_min', 'd1_spo2_max', 'd1_spo2_min', 'd1_sysbp_invasive_max', 'd1_sysbp_invasive_min', 'd1_sysbp_max', 'd1_sysbp_min', 'd1_sysbp_noninvasive_max', 'd1_sysbp_noninvasive_min', 'd1_temp_max', 'd1_temp_min', 'h1_diasbp_invasive_max', 'h1_diasbp_invasive_min', 'h1_diasbp_max', 'h1_diasbp_min', 'h1_diasbp_noninvasive_max', 'h1_diasbp_noninvasive_min', 'h1_heartrate_max', 'h1_heartrate_min', 'h1_mbp_invasive_max', 'h1_mbp_invasive_min', 'h1_mbp_max', 'h1_mbp_min', 'h1_mbp_noninvasive_max', 'h1_mbp_noninvasive_min', 'h1_resprate_max', 'h1_resprate_min', 'h1_spo2_max', 'h1_spo2_min', 'h1_sysbp_invasive_max', 'h1_sysbp_invasive_min', 'h1_sysbp_max', 'h1_sysbp_min', 'h1_sysbp_noninvasive_max', 'h1_sysbp_noninvasive_min', 'h1_temp_max', 'h1_temp_min', 'd1_albumin_max', 'd1_albumin_min', 'd1_bilirubin_max', 'd1_bilirubin_min', 'd1_bun_max', 'd1_bun_min', 'd1_calcium_max', 'd1_calcium_min', 'd1_creatinine_max', 'd1_creatinine_min', 'd1_glucose_max', 'd1_glucose_min', 'd1_hco3_max', 'd1_hco3_min', 'd1_hemaglobin_max', 'd1_hemaglobin_min', 'd1_hematocrit_max', 'd1_hematocrit_min', 'd1_inr_max', 'd1_inr_min', 'd1_lactate_max', 'd1_lactate_min', 'd1_platelets_max', 'd1_platelets_min', 'd1_potassium_max', 'd1_potassium_min', 'd1_sodium_max', 'd1_sodium_min', 'd1_wbc_max', 'd1_wbc_min', 'h1_albumin_max', 'h1_albumin_min', 'h1_bilirubin_max', 'h1_bilirubin_min', 'h1_bun_max', 'h1_bun_min', 'h1_calcium_max', 'h1_calcium_min', 'h1_creatinine_max', 'h1_creatinine_min', 'h1_glucose_max', 'h1_glucose_min', 'h1_hco3_max', 'h1_hco3_min', 'h1_hemaglobin_max', 'h1_hemaglobin_min', 'h1_hematocrit_max', 'h1_hematocrit_min', 'h1_inr_max', 'h1_inr_min', 'h1_lactate_max', 'h1_lactate_min', 'h1_platelets_max', 'h1_platelets_min', 'h1_potassium_max', 'h1_potassium_min', 'h1_sodium_max', 'h1_sodium_min', 'h1_wbc_max', 'h1_wbc_min', 'd1_arterial_pco2_max', 'd1_arterial_pco2_min', 'd1_arterial_ph_max', 'd1_arterial_ph_min', 'd1_arterial_po2_max', 'd1_arterial_po2_min', 'd1_pao2fio2ratio_max', 'd1_pao2fio2ratio_min', 'h1_arterial_pco2_max', 'h1_arterial_pco2_min', 'h1_arterial_ph_max', 'h1_arterial_ph_min', 'h1_arterial_po2_max', 'h1_arterial_po2_min', 'h1_pao2fio2ratio_max', 'h1_pao2fio2ratio_min', 'apache_4a_hospital_death_prob', 'apache_4a_icu_death_prob', 'aids', 'cirrhosis', 'diabetes_mellitus', 'hepatic_failure', 'immunosuppression', 'leukemia', 'lymphoma', 'solid_tumor_with_metastasis', 'apache_3j_bodysystem', 'apache_2_bodysystem']\n"
     ]
    }
   ],
   "source": [
    "columns_df = df.columns\n",
    "all_columns = []\n",
    "for i in columns_df:\n",
    "    all_columns.append(i)\n",
    "print(all_columns)"
   ],
   "metadata": {
    "collapsed": false
   }
  },
  {
   "cell_type": "code",
   "execution_count": 5,
   "outputs": [
    {
     "data": {
      "text/plain": "{'Category': 'APACHE comorbidity',\n 'Unit of Measure': nan,\n 'Data Type': 'binary',\n 'Description': 'Whether the patient has their immune system suppressed within six months prior to ICU admission for any of the following reasons; radiation therapy, chemotherapy, use of non-cytotoxic immunosuppressive drugs, high dose steroids (at least 0.3 mg/kg/day of methylprednisolone or equivalent for at least 6 months).',\n 'Example': '1'}"
     },
     "execution_count": 5,
     "metadata": {},
     "output_type": "execute_result"
    }
   ],
   "source": [
    "description_dict['immunosuppression']"
   ],
   "metadata": {
    "collapsed": false
   }
  },
  {
   "cell_type": "code",
   "execution_count": 6,
   "outputs": [
    {
     "data": {
      "text/plain": "                     Column_Name            Category Unit of Measure   \n0                   encounter_id          identifier             NaN  \\\n1                     patient_id          identifier             NaN   \n2                    hospital_id          identifier             NaN   \n3                 hospital_death         demographic             NaN   \n4                            age         demographic           Years   \n..                           ...                 ...             ...   \n181                     leukemia  APACHE comorbidity             NaN   \n182                     lymphoma  APACHE comorbidity             NaN   \n183  solid_tumor_with_metastasis  APACHE comorbidity             NaN   \n184         apache_3j_bodysystem     APACHE grouping             NaN   \n185          apache_2_bodysystem     APACHE grouping             NaN   \n\n    Data Type                                        Description   \n0     integer  Unique identifier associated with a patient un...  \\\n1     integer        Unique identifier associated with a patient   \n2     integer       Unique identifier associated with a hospital   \n3      binary  Whether the patient died during this hospitali...   \n4     numeric           The age of the patient on unit admission   \n..        ...                                                ...   \n181    binary  Whether the patient has been diagnosed with ac...   \n182    binary  Whether the patient has been diagnosed with no...   \n183    binary  Whether the patient has been diagnosed with an...   \n184    string           Admission diagnosis group for APACHE III   \n185    string            Admission diagnosis group for APACHE II   \n\n            Example  \n0               NaN  \n1               NaN  \n2               NaN  \n3                 0  \n4               NaN  \n..              ...  \n181               1  \n182               1  \n183               1  \n184  Cardiovascular  \n185     Respiratory  \n\n[186 rows x 6 columns]",
      "text/html": "<div>\n<style scoped>\n    .dataframe tbody tr th:only-of-type {\n        vertical-align: middle;\n    }\n\n    .dataframe tbody tr th {\n        vertical-align: top;\n    }\n\n    .dataframe thead th {\n        text-align: right;\n    }\n</style>\n<table border=\"1\" class=\"dataframe\">\n  <thead>\n    <tr style=\"text-align: right;\">\n      <th></th>\n      <th>Column_Name</th>\n      <th>Category</th>\n      <th>Unit of Measure</th>\n      <th>Data Type</th>\n      <th>Description</th>\n      <th>Example</th>\n    </tr>\n  </thead>\n  <tbody>\n    <tr>\n      <th>0</th>\n      <td>encounter_id</td>\n      <td>identifier</td>\n      <td>NaN</td>\n      <td>integer</td>\n      <td>Unique identifier associated with a patient un...</td>\n      <td>NaN</td>\n    </tr>\n    <tr>\n      <th>1</th>\n      <td>patient_id</td>\n      <td>identifier</td>\n      <td>NaN</td>\n      <td>integer</td>\n      <td>Unique identifier associated with a patient</td>\n      <td>NaN</td>\n    </tr>\n    <tr>\n      <th>2</th>\n      <td>hospital_id</td>\n      <td>identifier</td>\n      <td>NaN</td>\n      <td>integer</td>\n      <td>Unique identifier associated with a hospital</td>\n      <td>NaN</td>\n    </tr>\n    <tr>\n      <th>3</th>\n      <td>hospital_death</td>\n      <td>demographic</td>\n      <td>NaN</td>\n      <td>binary</td>\n      <td>Whether the patient died during this hospitali...</td>\n      <td>0</td>\n    </tr>\n    <tr>\n      <th>4</th>\n      <td>age</td>\n      <td>demographic</td>\n      <td>Years</td>\n      <td>numeric</td>\n      <td>The age of the patient on unit admission</td>\n      <td>NaN</td>\n    </tr>\n    <tr>\n      <th>...</th>\n      <td>...</td>\n      <td>...</td>\n      <td>...</td>\n      <td>...</td>\n      <td>...</td>\n      <td>...</td>\n    </tr>\n    <tr>\n      <th>181</th>\n      <td>leukemia</td>\n      <td>APACHE comorbidity</td>\n      <td>NaN</td>\n      <td>binary</td>\n      <td>Whether the patient has been diagnosed with ac...</td>\n      <td>1</td>\n    </tr>\n    <tr>\n      <th>182</th>\n      <td>lymphoma</td>\n      <td>APACHE comorbidity</td>\n      <td>NaN</td>\n      <td>binary</td>\n      <td>Whether the patient has been diagnosed with no...</td>\n      <td>1</td>\n    </tr>\n    <tr>\n      <th>183</th>\n      <td>solid_tumor_with_metastasis</td>\n      <td>APACHE comorbidity</td>\n      <td>NaN</td>\n      <td>binary</td>\n      <td>Whether the patient has been diagnosed with an...</td>\n      <td>1</td>\n    </tr>\n    <tr>\n      <th>184</th>\n      <td>apache_3j_bodysystem</td>\n      <td>APACHE grouping</td>\n      <td>NaN</td>\n      <td>string</td>\n      <td>Admission diagnosis group for APACHE III</td>\n      <td>Cardiovascular</td>\n    </tr>\n    <tr>\n      <th>185</th>\n      <td>apache_2_bodysystem</td>\n      <td>APACHE grouping</td>\n      <td>NaN</td>\n      <td>string</td>\n      <td>Admission diagnosis group for APACHE II</td>\n      <td>Respiratory</td>\n    </tr>\n  </tbody>\n</table>\n<p>186 rows × 6 columns</p>\n</div>"
     },
     "execution_count": 6,
     "metadata": {},
     "output_type": "execute_result"
    }
   ],
   "source": [
    "description_list = []\n",
    "for i in all_columns:\n",
    "    description_list.append(description_dict[i])\n",
    "\n",
    "dictionary = []\n",
    "for dict_, name in zip(description_list, all_columns):\n",
    "    # Create a new dictionary with the column name as the first key:value set\n",
    "    new_dict = {\"Column_Name\": name}\n",
    "    # Update this new dictionary with the original dictionary's attributes\n",
    "    new_dict.update(dict_)\n",
    "    # Append the updated dictionary to the list\n",
    "    dictionary.append(new_dict)\n",
    "\n",
    "# Converting the list of dictionaries into a pandas DataFrame\n",
    "dictionary_df = pd.DataFrame(dictionary)\n",
    "dictionary_df"
   ],
   "metadata": {
    "collapsed": false
   }
  },
  {
   "cell_type": "code",
   "execution_count": 7,
   "outputs": [],
   "source": [
    "pd.set_option('display.max_rows', None)\n",
    "\n",
    "missing_values_per_column = df.isna().sum()\n",
    "non_missing_values_per_column = df.count()\n",
    "\n",
    "total_rows = len(df)\n",
    "\n",
    "percentage_missing = missing_values_per_column / total_rows * 100"
   ],
   "metadata": {
    "collapsed": false
   }
  },
  {
   "cell_type": "code",
   "execution_count": 8,
   "outputs": [
    {
     "name": "stdout",
     "output_type": "stream",
     "text": [
      "                               Percentage_Values_Missing\n",
      "encounter_id                                         0.0\n",
      "patient_id                                           0.0\n",
      "hospital_id                                          0.0\n",
      "hospital_death                                       0.0\n",
      "age                                                  4.6\n",
      "bmi                                                  3.7\n",
      "elective_surgery                                     0.0\n",
      "ethnicity                                            1.5\n",
      "gender                                               0.0\n",
      "height                                               1.5\n",
      "hospital_admit_source                               23.3\n",
      "icu_admit_source                                     0.1\n",
      "icu_id                                               0.0\n",
      "icu_stay_type                                        0.0\n",
      "icu_type                                             0.0\n",
      "pre_icu_los_days                                     0.0\n",
      "readmission_status                                   0.0\n",
      "weight                                               3.0\n",
      "albumin_apache                                      59.3\n",
      "apache_2_diagnosis                                   1.8\n",
      "apache_3j_diagnosis                                  1.2\n",
      "apache_post_operative                                0.0\n",
      "arf_apache                                           0.8\n",
      "bilirubin_apache                                    63.4\n",
      "bun_apache                                          21.0\n",
      "creatinine_apache                                   20.6\n",
      "fio2_apache                                         77.3\n",
      "gcs_eyes_apache                                      2.1\n",
      "gcs_motor_apache                                     2.1\n",
      "gcs_unable_apache                                    1.1\n",
      "gcs_verbal_apache                                    2.1\n",
      "glucose_apache                                      12.0\n",
      "heart_rate_apache                                    1.0\n",
      "hematocrit_apache                                   21.7\n",
      "intubated_apache                                     0.8\n",
      "map_apache                                           1.1\n",
      "paco2_apache                                        77.3\n",
      "paco2_for_ph_apache                                 77.3\n",
      "pao2_apache                                         77.3\n",
      "ph_apache                                           77.3\n",
      "resprate_apache                                      1.3\n",
      "sodium_apache                                       20.3\n",
      "temp_apache                                          4.5\n",
      "urineoutput_apache                                  53.4\n",
      "ventilated_apache                                    0.8\n",
      "wbc_apache                                          24.0\n",
      "d1_diasbp_invasive_max                              74.1\n",
      "d1_diasbp_invasive_min                              74.1\n",
      "d1_diasbp_max                                        0.2\n",
      "d1_diasbp_min                                        0.2\n",
      "d1_diasbp_noninvasive_max                            1.1\n",
      "d1_diasbp_noninvasive_min                            1.1\n",
      "d1_heartrate_max                                     0.2\n",
      "d1_heartrate_min                                     0.2\n",
      "d1_mbp_invasive_max                                 73.9\n",
      "d1_mbp_invasive_min                                 73.9\n",
      "d1_mbp_max                                           0.2\n",
      "d1_mbp_min                                           0.2\n",
      "d1_mbp_noninvasive_max                               1.6\n",
      "d1_mbp_noninvasive_min                               1.6\n",
      "d1_resprate_max                                      0.4\n",
      "d1_resprate_min                                      0.4\n",
      "d1_spo2_max                                          0.4\n",
      "d1_spo2_min                                          0.4\n",
      "d1_sysbp_invasive_max                               74.1\n",
      "d1_sysbp_invasive_min                               74.1\n",
      "d1_sysbp_max                                         0.2\n",
      "d1_sysbp_min                                         0.2\n",
      "d1_sysbp_noninvasive_max                             1.1\n",
      "d1_sysbp_noninvasive_min                             1.1\n",
      "d1_temp_max                                          2.5\n",
      "d1_temp_min                                          2.5\n",
      "h1_diasbp_invasive_max                              81.7\n",
      "h1_diasbp_invasive_min                              81.7\n",
      "h1_diasbp_max                                        3.9\n",
      "h1_diasbp_min                                        3.9\n",
      "h1_diasbp_noninvasive_max                            8.0\n",
      "h1_diasbp_noninvasive_min                            8.0\n",
      "h1_heartrate_max                                     3.0\n",
      "h1_heartrate_min                                     3.0\n",
      "h1_mbp_invasive_max                                 81.6\n",
      "h1_mbp_invasive_min                                 81.6\n",
      "h1_mbp_max                                           5.1\n",
      "h1_mbp_min                                           5.1\n",
      "h1_mbp_noninvasive_max                               9.9\n",
      "h1_mbp_noninvasive_min                               9.9\n",
      "h1_resprate_max                                      4.8\n",
      "h1_resprate_min                                      4.8\n",
      "h1_spo2_max                                          4.6\n",
      "h1_spo2_min                                          4.6\n",
      "h1_sysbp_invasive_max                               81.7\n",
      "h1_sysbp_invasive_min                               81.7\n",
      "h1_sysbp_max                                         3.9\n",
      "h1_sysbp_min                                         3.9\n",
      "h1_sysbp_noninvasive_max                             8.0\n",
      "h1_sysbp_noninvasive_min                             8.0\n",
      "h1_temp_max                                         23.7\n",
      "h1_temp_min                                         23.7\n",
      "d1_albumin_max                                      53.5\n",
      "d1_albumin_min                                      53.5\n",
      "d1_bilirubin_max                                    58.5\n",
      "d1_bilirubin_min                                    58.5\n",
      "d1_bun_max                                          11.5\n",
      "d1_bun_min                                          11.5\n",
      "d1_calcium_max                                      14.2\n",
      "d1_calcium_min                                      14.2\n",
      "d1_creatinine_max                                   11.1\n",
      "d1_creatinine_min                                   11.1\n",
      "d1_glucose_max                                       6.3\n",
      "d1_glucose_min                                       6.3\n",
      "d1_hco3_max                                         16.4\n",
      "d1_hco3_min                                         16.4\n",
      "d1_hemaglobin_max                                   13.2\n",
      "d1_hemaglobin_min                                   13.2\n",
      "d1_hematocrit_max                                   12.7\n",
      "d1_hematocrit_min                                   12.7\n",
      "d1_inr_max                                          63.2\n",
      "d1_inr_min                                          63.2\n",
      "d1_lactate_max                                      74.6\n",
      "d1_lactate_min                                      74.6\n",
      "d1_platelets_max                                    14.7\n",
      "d1_platelets_min                                    14.7\n",
      "d1_potassium_max                                    10.5\n",
      "d1_potassium_min                                    10.5\n",
      "d1_sodium_max                                       11.1\n",
      "d1_sodium_min                                       11.1\n",
      "d1_wbc_max                                          14.4\n",
      "d1_wbc_min                                          14.4\n",
      "h1_albumin_max                                      91.4\n",
      "h1_albumin_min                                      91.4\n",
      "h1_bilirubin_max                                    92.3\n",
      "h1_bilirubin_min                                    92.3\n",
      "h1_bun_max                                          81.9\n",
      "h1_bun_min                                          81.9\n",
      "h1_calcium_max                                      82.7\n",
      "h1_calcium_min                                      82.7\n",
      "h1_creatinine_max                                   81.7\n",
      "h1_creatinine_min                                   81.7\n",
      "h1_glucose_max                                      57.4\n",
      "h1_glucose_min                                      57.4\n",
      "h1_hco3_max                                         83.0\n",
      "h1_hco3_min                                         83.0\n",
      "h1_hemaglobin_max                                   79.7\n",
      "h1_hemaglobin_min                                   79.7\n",
      "h1_hematocrit_max                                   80.1\n",
      "h1_hematocrit_min                                   80.1\n",
      "h1_inr_max                                          63.2\n",
      "h1_inr_min                                          63.2\n",
      "h1_lactate_max                                      92.0\n",
      "h1_lactate_min                                      92.0\n",
      "h1_platelets_max                                    82.5\n",
      "h1_platelets_min                                    82.5\n",
      "h1_potassium_max                                    78.6\n",
      "h1_potassium_min                                    78.6\n",
      "h1_sodium_max                                       79.2\n",
      "h1_sodium_min                                       79.2\n",
      "h1_wbc_max                                          82.8\n",
      "h1_wbc_min                                          82.8\n",
      "d1_arterial_pco2_max                                64.6\n",
      "d1_arterial_pco2_min                                64.6\n",
      "d1_arterial_ph_max                                  65.6\n",
      "d1_arterial_ph_min                                  65.6\n",
      "d1_arterial_po2_max                                 64.6\n",
      "d1_arterial_po2_min                                 64.6\n",
      "d1_pao2fio2ratio_max                                72.0\n",
      "d1_pao2fio2ratio_min                                72.0\n",
      "h1_arterial_pco2_max                                82.8\n",
      "h1_arterial_pco2_min                                82.8\n",
      "h1_arterial_ph_max                                  83.3\n",
      "h1_arterial_ph_min                                  83.3\n",
      "h1_arterial_po2_max                                 82.8\n",
      "h1_arterial_po2_min                                 82.8\n",
      "h1_pao2fio2ratio_max                                87.4\n",
      "h1_pao2fio2ratio_min                                87.4\n",
      "apache_4a_hospital_death_prob                        8.7\n",
      "apache_4a_icu_death_prob                             8.7\n",
      "aids                                                 0.8\n",
      "cirrhosis                                            0.8\n",
      "diabetes_mellitus                                    0.8\n",
      "hepatic_failure                                      0.8\n",
      "immunosuppression                                    0.8\n",
      "leukemia                                             0.8\n",
      "lymphoma                                             0.8\n",
      "solid_tumor_with_metastasis                          0.8\n",
      "apache_3j_bodysystem                                 1.8\n",
      "apache_2_bodysystem                                  1.8\n"
     ]
    }
   ],
   "source": [
    "missing_info_df = pd.DataFrame({\n",
    "    # 'Non_Missing_Values': non_missing_values_per_column,\n",
    "    # 'Missing_Values': missing_values_per_column,\n",
    "    'Percentage_Values_Missing': percentage_missing.round(1)\n",
    "})\n",
    "\n",
    "print(missing_info_df)"
   ],
   "metadata": {
    "collapsed": false
   }
  },
  {
   "cell_type": "code",
   "execution_count": 9,
   "outputs": [],
   "source": [
    "# Here we set the parameters we want to set for the cleaning\n",
    "\n",
    "test_size = 0.2 # proportion for testing dataset for a train-validate-test method\n",
    "val_size = 0.3 # proportion for validation dataset for a train-validate-test method\n",
    "train_size = 1 - test_size - val_size\n",
    "set_seed = 42 # seed for randomization\n",
    "max_missing = 50 # max percentage of missing values allowed"
   ],
   "metadata": {
    "collapsed": false
   }
  },
  {
   "cell_type": "code",
   "execution_count": 10,
   "outputs": [],
   "source": [
    "missing_columns = percentage_missing[percentage_missing > max_missing].index\n",
    "cleaned_df = df.drop(columns = missing_columns)"
   ],
   "metadata": {
    "collapsed": false
   }
  },
  {
   "cell_type": "code",
   "execution_count": 11,
   "outputs": [
    {
     "data": {
      "text/plain": "encounter_id                     91713\npatient_id                       91713\nhospital_id                      91713\nhospital_death                   91713\nage                              87485\nbmi                              88284\nelective_surgery                 91713\nethnicity                        90318\ngender                           91688\nheight                           90379\nhospital_admit_source            70304\nicu_admit_source                 91601\nicu_id                           91713\nicu_stay_type                    91713\nicu_type                         91713\npre_icu_los_days                 91713\nreadmission_status               91713\nweight                           88993\napache_2_diagnosis               90051\napache_3j_diagnosis              90612\napache_post_operative            91713\narf_apache                       90998\nbun_apache                       72451\ncreatinine_apache                72860\ngcs_eyes_apache                  89812\ngcs_motor_apache                 89812\ngcs_unable_apache                90676\ngcs_verbal_apache                89812\nglucose_apache                   80677\nheart_rate_apache                90835\nhematocrit_apache                71835\nintubated_apache                 90998\nmap_apache                       90719\nresprate_apache                  90479\nsodium_apache                    73113\ntemp_apache                      87605\nventilated_apache                90998\nwbc_apache                       69701\nd1_diasbp_max                    91548\nd1_diasbp_min                    91548\nd1_diasbp_noninvasive_max        90673\nd1_diasbp_noninvasive_min        90673\nd1_heartrate_max                 91568\nd1_heartrate_min                 91568\nd1_mbp_max                       91493\nd1_mbp_min                       91493\nd1_mbp_noninvasive_max           90234\nd1_mbp_noninvasive_min           90234\nd1_resprate_max                  91328\nd1_resprate_min                  91328\nd1_spo2_max                      91380\nd1_spo2_min                      91380\nd1_sysbp_max                     91554\nd1_sysbp_min                     91554\nd1_sysbp_noninvasive_max         90686\nd1_sysbp_noninvasive_min         90686\nd1_temp_max                      89389\nd1_temp_min                      89389\nh1_diasbp_max                    88094\nh1_diasbp_min                    88094\nh1_diasbp_noninvasive_max        84363\nh1_diasbp_noninvasive_min        84363\nh1_heartrate_max                 88923\nh1_heartrate_min                 88923\nh1_mbp_max                       87074\nh1_mbp_min                       87074\nh1_mbp_noninvasive_max           82629\nh1_mbp_noninvasive_min           82629\nh1_resprate_max                  87356\nh1_resprate_min                  87356\nh1_spo2_max                      87528\nh1_spo2_min                      87528\nh1_sysbp_max                     88102\nh1_sysbp_min                     88102\nh1_sysbp_noninvasive_max         84372\nh1_sysbp_noninvasive_min         84372\nh1_temp_max                      69981\nh1_temp_min                      69981\nd1_bun_max                       81199\nd1_bun_min                       81199\nd1_calcium_max                   78644\nd1_calcium_min                   78644\nd1_creatinine_max                81544\nd1_creatinine_min                81544\nd1_glucose_max                   85906\nd1_glucose_min                   85906\nd1_hco3_max                      76642\nd1_hco3_min                      76642\nd1_hemaglobin_max                79566\nd1_hemaglobin_min                79566\nd1_hematocrit_max                80059\nd1_hematocrit_min                80059\nd1_platelets_max                 78269\nd1_platelets_min                 78269\nd1_potassium_max                 82128\nd1_potassium_min                 82128\nd1_sodium_max                    81518\nd1_sodium_min                    81518\nd1_wbc_max                       78539\nd1_wbc_min                       78539\napache_4a_hospital_death_prob    83766\napache_4a_icu_death_prob         83766\naids                             90998\ncirrhosis                        90998\ndiabetes_mellitus                90998\nhepatic_failure                  90998\nimmunosuppression                90998\nleukemia                         90998\nlymphoma                         90998\nsolid_tumor_with_metastasis      90998\napache_3j_bodysystem             90051\napache_2_bodysystem              90051\ndtype: int64"
     },
     "execution_count": 11,
     "metadata": {},
     "output_type": "execute_result"
    }
   ],
   "source": [
    "non_missing_values_clean_df = cleaned_df.count()\n",
    "non_missing_values_clean_df"
   ],
   "metadata": {
    "collapsed": false
   }
  },
  {
   "cell_type": "code",
   "execution_count": 12,
   "outputs": [
    {
     "data": {
      "text/plain": "wbc_apache                       24.0\nh1_temp_min                      23.7\nh1_temp_max                      23.7\nhospital_admit_source            23.3\nhematocrit_apache                21.7\nbun_apache                       21.0\ncreatinine_apache                20.6\nsodium_apache                    20.3\nd1_hco3_min                      16.4\nd1_hco3_max                      16.4\nd1_platelets_min                 14.7\nd1_platelets_max                 14.7\nd1_wbc_max                       14.4\nd1_wbc_min                       14.4\nd1_calcium_min                   14.2\nd1_calcium_max                   14.2\nd1_hemaglobin_min                13.2\nd1_hemaglobin_max                13.2\nd1_hematocrit_min                12.7\nd1_hematocrit_max                12.7\nglucose_apache                   12.0\nd1_bun_min                       11.5\nd1_bun_max                       11.5\nd1_sodium_min                    11.1\nd1_creatinine_min                11.1\nd1_creatinine_max                11.1\nd1_sodium_max                    11.1\nd1_potassium_min                 10.5\nd1_potassium_max                 10.5\nh1_mbp_noninvasive_max            9.9\nh1_mbp_noninvasive_min            9.9\napache_4a_icu_death_prob          8.7\napache_4a_hospital_death_prob     8.7\nh1_sysbp_noninvasive_max          8.0\nh1_sysbp_noninvasive_min          8.0\nh1_diasbp_noninvasive_max         8.0\nh1_diasbp_noninvasive_min         8.0\nd1_glucose_min                    6.3\nd1_glucose_max                    6.3\nh1_mbp_max                        5.1\nh1_mbp_min                        5.1\nh1_resprate_max                   4.8\nh1_resprate_min                   4.8\nh1_spo2_max                       4.6\nh1_spo2_min                       4.6\nage                               4.6\ntemp_apache                       4.5\nh1_sysbp_max                      3.9\nh1_sysbp_min                      3.9\nh1_diasbp_max                     3.9\nh1_diasbp_min                     3.9\nbmi                               3.7\nweight                            3.0\nh1_heartrate_min                  3.0\nh1_heartrate_max                  3.0\nd1_temp_min                       2.5\nd1_temp_max                       2.5\ngcs_eyes_apache                   2.1\ngcs_motor_apache                  2.1\ngcs_verbal_apache                 2.1\napache_3j_bodysystem              1.8\napache_2_bodysystem               1.8\napache_2_diagnosis                1.8\nd1_mbp_noninvasive_min            1.6\nd1_mbp_noninvasive_max            1.6\nethnicity                         1.5\nheight                            1.5\nresprate_apache                   1.3\napache_3j_diagnosis               1.2\nmap_apache                        1.1\nd1_sysbp_noninvasive_max          1.1\ngcs_unable_apache                 1.1\nd1_sysbp_noninvasive_min          1.1\nd1_diasbp_noninvasive_max         1.1\nd1_diasbp_noninvasive_min         1.1\nheart_rate_apache                 1.0\narf_apache                        0.8\nsolid_tumor_with_metastasis       0.8\nintubated_apache                  0.8\nleukemia                          0.8\nimmunosuppression                 0.8\nhepatic_failure                   0.8\ndiabetes_mellitus                 0.8\nlymphoma                          0.8\nventilated_apache                 0.8\naids                              0.8\ncirrhosis                         0.8\nd1_resprate_max                   0.4\nd1_resprate_min                   0.4\nd1_spo2_max                       0.4\nd1_spo2_min                       0.4\nd1_diasbp_max                     0.2\nd1_diasbp_min                     0.2\nd1_heartrate_max                  0.2\nd1_heartrate_min                  0.2\nd1_mbp_max                        0.2\nd1_mbp_min                        0.2\nd1_sysbp_max                      0.2\nd1_sysbp_min                      0.2\nicu_admit_source                  0.1\nhospital_id                       0.0\npatient_id                        0.0\nhospital_death                    0.0\nelective_surgery                  0.0\ngender                            0.0\nicu_id                            0.0\nicu_stay_type                     0.0\nicu_type                          0.0\npre_icu_los_days                  0.0\nreadmission_status                0.0\napache_post_operative             0.0\nencounter_id                      0.0\ndtype: float64"
     },
     "execution_count": 12,
     "metadata": {},
     "output_type": "execute_result"
    }
   ],
   "source": [
    "Percentage_missing_cleaned_df = ((cleaned_df.isna().sum() / len(cleaned_df))*100).round(1)\n",
    "\n",
    "sorted_columns_by_nan_percentages = Percentage_missing_cleaned_df.sort_values(ascending=False)\n",
    "sorted_columns_by_nan_percentages"
   ],
   "metadata": {
    "collapsed": false
   }
  },
  {
   "cell_type": "code",
   "execution_count": 13,
   "outputs": [
    {
     "data": {
      "text/plain": "Index(['albumin_apache', 'bilirubin_apache', 'fio2_apache', 'paco2_apache',\n       'paco2_for_ph_apache', 'pao2_apache', 'ph_apache', 'urineoutput_apache',\n       'd1_diasbp_invasive_max', 'd1_diasbp_invasive_min',\n       'd1_mbp_invasive_max', 'd1_mbp_invasive_min', 'd1_sysbp_invasive_max',\n       'd1_sysbp_invasive_min', 'h1_diasbp_invasive_max',\n       'h1_diasbp_invasive_min', 'h1_mbp_invasive_max', 'h1_mbp_invasive_min',\n       'h1_sysbp_invasive_max', 'h1_sysbp_invasive_min', 'd1_albumin_max',\n       'd1_albumin_min', 'd1_bilirubin_max', 'd1_bilirubin_min', 'd1_inr_max',\n       'd1_inr_min', 'd1_lactate_max', 'd1_lactate_min', 'h1_albumin_max',\n       'h1_albumin_min', 'h1_bilirubin_max', 'h1_bilirubin_min', 'h1_bun_max',\n       'h1_bun_min', 'h1_calcium_max', 'h1_calcium_min', 'h1_creatinine_max',\n       'h1_creatinine_min', 'h1_glucose_max', 'h1_glucose_min', 'h1_hco3_max',\n       'h1_hco3_min', 'h1_hemaglobin_max', 'h1_hemaglobin_min',\n       'h1_hematocrit_max', 'h1_hematocrit_min', 'h1_inr_max', 'h1_inr_min',\n       'h1_lactate_max', 'h1_lactate_min', 'h1_platelets_max',\n       'h1_platelets_min', 'h1_potassium_max', 'h1_potassium_min',\n       'h1_sodium_max', 'h1_sodium_min', 'h1_wbc_max', 'h1_wbc_min',\n       'd1_arterial_pco2_max', 'd1_arterial_pco2_min', 'd1_arterial_ph_max',\n       'd1_arterial_ph_min', 'd1_arterial_po2_max', 'd1_arterial_po2_min',\n       'd1_pao2fio2ratio_max', 'd1_pao2fio2ratio_min', 'h1_arterial_pco2_max',\n       'h1_arterial_pco2_min', 'h1_arterial_ph_max', 'h1_arterial_ph_min',\n       'h1_arterial_po2_max', 'h1_arterial_po2_min', 'h1_pao2fio2ratio_max',\n       'h1_pao2fio2ratio_min'],\n      dtype='object')"
     },
     "execution_count": 13,
     "metadata": {},
     "output_type": "execute_result"
    }
   ],
   "source": [
    "missing_columns"
   ],
   "metadata": {
    "collapsed": false
   }
  },
  {
   "cell_type": "code",
   "execution_count": 19,
   "outputs": [],
   "source": [
    "# Create a list with all the parameters the APACHE IV model uses\n",
    "APACHE_cols = [\"age\",\"hospital_admit_source\",\"icu_admit_source\",\"pre_icu_los_days\", \"readmission_status\", \"albumin_apache\", \"apache_post_operative\", \"bilirubin_apache\", \"bun_apache\", \"creatinine_apache\", \"fio2_apache\", \"gcs_eyes_apache\", \"gcs_motor_apache\", \"gcs_unable_apache\", \"gcs_verbal_apache\", \"glucose_apache\", \"heart_rate_apache\", \"intubated_apache\", \"map_apache\", \"paco2_apache\", \"ph_apache\", \"resprate_apache\", \"sodium_apache\", \"temp_apache\", \"urineoutput_apache\", \"ventilated_apache\", \"wbc_apache\", \"aids\", \"cirrhosis\", \"diabetes_mellitus\", \"hepatic_failure\", \"immunosuppression\", \"leukemia\", \"lymphoma\", \"solid_tumor_with_metastasis\"]\n",
    "# finaldf = df[df.columns[APACHE_cols]]\n",
    "# Derive a new dataframe with the parameters from the list above\n",
    "finaldf = df[APACHE_cols]\n",
    "# finaldf\n",
    "# Save the new dataframe as APACHE dataset.csv into your repository\n",
    "finaldf.to_csv('APACHE dataset.csv')"
   ],
   "metadata": {
    "collapsed": false
   }
  }
 ],
 "metadata": {
  "kernelspec": {
   "display_name": "Python 3",
   "language": "python",
   "name": "python3"
  },
  "language_info": {
   "codemirror_mode": {
    "name": "ipython",
    "version": 2
   },
   "file_extension": ".py",
   "mimetype": "text/x-python",
   "name": "python",
   "nbconvert_exporter": "python",
   "pygments_lexer": "ipython2",
   "version": "2.7.6"
  }
 },
 "nbformat": 4,
 "nbformat_minor": 0
}

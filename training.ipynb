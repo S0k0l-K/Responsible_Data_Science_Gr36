{
 "cells": [
  {
   "cell_type": "code",
   "execution_count": 2,
   "id": "8b661000",
   "metadata": {},
   "outputs": [
    {
     "data": {
      "text/plain": [
       "0"
      ]
     },
     "execution_count": 2,
     "metadata": {},
     "output_type": "execute_result"
    }
   ],
   "source": [
    "\n",
    "import os\n",
    "os.system('pip3 install Seaborn')\n",
    "os.system('pip3 install xgboost')"
   ]
  },
  {
   "cell_type": "code",
   "execution_count": 3,
   "id": "8c2508dc-6e49-481b-8bda-3c144a52e93f",
   "metadata": {},
   "outputs": [],
   "source": [
    "import pandas as pd\n",
    "import matplotlib.pyplot as plt\n",
    "import numpy as np\n",
    "import seaborn as sns\n",
    "\n",
    "\n",
    "# Load in all the data\n",
    "samplesubmission = pd.read_csv('data/samplesubmission.csv')\n",
    "solution_template = pd.read_csv('data/solution_template.csv')\n",
    "training = pd.read_csv('data/training_v2.csv')\n",
    "unlabeled = pd.read_csv('data/unlabeled.csv')\n",
    "wids = pd.read_csv('data/WiDS_Datathon_2020_Dictionary.csv')\n",
    "\n",
    "# CSV files must be in folder called 'data' in the same directory as the notebook "
   ]
  },
  {
   "cell_type": "code",
   "execution_count": 4,
   "id": "b68e96ba-9ae8-4503-8db6-83ebb4e169f7",
   "metadata": {},
   "outputs": [
    {
     "data": {
      "text/plain": [
       "encounter_id             91713\n",
       "patient_id               91713\n",
       "bmi                      34888\n",
       "urineoutput_apache       24772\n",
       "pre_icu_los_days          9757\n",
       "                         ...  \n",
       "gcs_unable_apache            2\n",
       "elective_surgery             2\n",
       "gender                       2\n",
       "apache_post_operative        2\n",
       "readmission_status           1\n",
       "Length: 186, dtype: int64"
      ]
     },
     "metadata": {},
     "output_type": "display_data"
    }
   ],
   "source": [
    "# Find all the categorical features and set them to their appropriate type\n",
    "\n",
    "num_unique_values = training.nunique().sort_values(ascending=False)\n",
    "display(num_unique_values)\n",
    "# After manually inspecting it seems that hospital_admit_source is the last categorical feature\n",
    "# So we'll convert all columns with less unique values to a categorical feature as well\n",
    "categorical_features = num_unique_values[num_unique_values <= 15].index\n",
    "training_typed = training.astype(dict(zip(categorical_features, ['category'] * len(categorical_features))))"
   ]
  },
  {
   "cell_type": "code",
   "execution_count": 5,
   "id": "b6e6e136-a039-4c72-989e-9f46cc3c9d94",
   "metadata": {},
   "outputs": [],
   "source": [
    "# Show the percentage of non missing values for each feature\n",
    "missing = (training_typed.notna().sum() / len(training)) * 100\n",
    "\n",
    "# Looking at the data there is a big gap in data availability between wbc_apache and urineoutput_apache, namely 75% and then 46%\n",
    "# To make analysis easier we'll only consider features with more than 50% data availability\n",
    "chosen_features = list(missing[missing > 50].index)"
   ]
  },
  {
   "cell_type": "code",
   "execution_count": 6,
   "id": "18514bd2-4c80-40e1-8788-73dfba210ccf",
   "metadata": {},
   "outputs": [],
   "source": [
    "df_training = training_typed[chosen_features].fillna(training_typed[chosen_features].mean(numeric_only=True))\n",
    "# df_training.select_dtypes(include=['category'])\n",
    "# df_final = pd.get_dummies(df_training)"
   ]
  },
  {
   "cell_type": "code",
   "execution_count": 7,
   "id": "2400d775-b04d-46cc-92c4-3a4eb6003e7d",
   "metadata": {},
   "outputs": [],
   "source": [
    "test_size = 0.2 # proportion for train versus test+val split\n",
    "val_size = 0.5 # proportion for test versus val split\n",
    "random_state = 42  # random state is used to set a seed for randomness, which is only relevant for reproducibility purposes"
   ]
  },
  {
   "cell_type": "code",
   "execution_count": 8,
   "id": "eb854aa3-75c1-4b77-81b2-46bfd5aa8d49",
   "metadata": {},
   "outputs": [],
   "source": [
    "from sklearn.model_selection import train_test_split\n",
    "\n",
    "X = df_training.copy().drop(['hospital_death', 'patient_id', 'encounter_id', 'hospital_id', 'icu_id', # drop identifiers\n",
    "                    'apache_4a_hospital_death_prob', 'apache_4a_icu_death_prob'], # drop APACHE scores\n",
    "                   axis=1)\n",
    "y = df_training['hospital_death'].copy()\n",
    "y_apache = df_training['apache_4a_hospital_death_prob'].copy()\n",
    "\n",
    "X = pd.get_dummies(X, drop_first=True)\n",
    "\n",
    "# split the dataset into train and test+validation set\n",
    "(X_train, X_test,\n",
    " y_train, y_test,\n",
    " y_apache_train, y_apache_test\n",
    ") = train_test_split(X, y, y_apache, test_size=test_size, random_state=random_state)\n",
    "\n",
    "# split the test set into test + validation set\n",
    "(X_val, X_test,\n",
    " y_val, y_test,\n",
    " y_apache_val, y_apache_test,\n",
    ") = train_test_split(X_test, y_test, y_apache_test, test_size=val_size, random_state=random_state)"
   ]
  },
  {
   "cell_type": "code",
   "execution_count": 9,
   "id": "c4bf632f-27b9-4ea2-a3ff-14ab361bfb07",
   "metadata": {},
   "outputs": [
    {
     "name": "stdout",
     "output_type": "stream",
     "text": [
      "RFC Accuracy: 0.9262974269515918\n",
      "LG Accuracy: 0.9218273004797208\n",
      "XGB Accuracy: 0.9249890972525077\n"
     ]
    }
   ],
   "source": [
    "from sklearn.ensemble import RandomForestClassifier\n",
    "from sklearn.linear_model import LogisticRegression\n",
    "from xgboost import XGBClassifier\n",
    "from sklearn.metrics import accuracy_score\n",
    "\n",
    "rfc = RandomForestClassifier()\n",
    "rfc.fit(X_train, y_train)\n",
    "print(f\"RFC Accuracy: {accuracy_score(y_test, rfc.predict(X_test))}\")\n",
    "\n",
    "lg = LogisticRegression(solver='liblinear')\n",
    "lg.fit(X_train, y_train)\n",
    "print(f\"LG Accuracy: {accuracy_score(y_test, lg.predict(X_test))}\")\n",
    "\n",
    "xgb = XGBClassifier()\n",
    "xgb.fit(X_train, y_train)\n",
    "print(f\"XGB Accuracy: {accuracy_score(y_test, xgb.predict(X_test))}\")"
   ]
  },
  {
   "cell_type": "code",
   "execution_count": 16,
   "id": "b611af53",
   "metadata": {},
   "outputs": [],
   "source": [
    "from sklearn.metrics import accuracy_score\n",
    "from sklearn.metrics import f1_score\n",
    "from sklearn.metrics import recall_score\n",
    "from sklearn.metrics import roc_auc_score\n",
    "# Define a dictionary to map ethnicity names to their corresponding boolean columns\n",
    "ethnicity_columns = {\n",
    "    'Asian': 'ethnicity_Asian',\n",
    "    'Caucasian': 'ethnicity_Caucasian',\n",
    "    'Hispanic': 'ethnicity_Hispanic',\n",
    "    'Native American': 'ethnicity_Native American',\n",
    "    'Other/Unknown': 'ethnicity_Other/Unknown'\n",
    "}\n",
    "\n",
    "# Loop through each ethnicity and evaluate accuracy\n",
    "for ethnicity, column_name in ethnicity_columns.items():\n",
    "    # Filter test data based on the ethnicity column\n",
    "    mask = X_test[column_name] == 1  # Filter for rows where the ethnicity column is 1 (True)\n",
    "    X_test_ethnicity = X_test[mask]\n",
    "    y_test_ethnicity = y_test[mask]\n",
    "    \n",
    "    # Calculate accuracy for each model\n",
    "    rfc_accuracy = accuracy_score(y_test_ethnicity, rfc.predict(X_test_ethnicity))\n",
    "    lg_accuracy = accuracy_score(y_test_ethnicity, lg.predict(X_test_ethnicity))\n",
    "    xgb_accuracy = accuracy_score(y_test_ethnicity, xgb.predict(X_test_ethnicity))\n",
    "\n",
    "    #Calculate Recall for each model\n",
    "    rfc_recall = recall_score(y_test_ethnicity, rfc.predict(X_test_ethnicity))\n",
    "    lg_recall = recall_score(y_test_ethnicity, lg.predict(X_test_ethnicity))\n",
    "    xgb_recall = recall_score(y_test_ethnicity, xgb.predict(X_test_ethnicity))\n",
    "\n",
    "    # Calculate F1 score for each model\n",
    "    rfc_f1 = f1_score(y_test_ethnicity, rfc.predict(X_test_ethnicity))\n",
    "    lg_f1 = f1_score(y_test_ethnicity, lg.predict(X_test_ethnicity))\n",
    "    xgb_f1 = f1_score(y_test_ethnicity, xgb.predict(X_test_ethnicity))\n",
    "\n",
    "    # Calculate Area under ROC curve for each model\n",
    "    rfc_auc = roc_auc_score(y_test_ethnicity, rfc.predict(X_test_ethnicity))\n",
    "    lg_auc = roc_auc_score(y_test_ethnicity, lg.predict(X_test_ethnicity))\n",
    "    xgb_auc = roc_auc_score(y_test_ethnicity, xgb.predict(X_test_ethnicity))\n",
    "\n",
    "    # print(f\"RFC Recall: {rfc_recall}\")\n",
    "    # print(f\"LG Recall: {lg_recall}\")\n",
    "    # print(f\"XGB Recall: {xgb_recall}\")\n",
    "\n",
    "    # print(f\"RFC F1 score: {rfc_f1}\")\n",
    "    # print(f\"LG F1 score: {lg_f1}\")\n",
    "    # print(f\"XGB F1 score: {xgb_f1}\")\n",
    "\n",
    "    print(f\"RFC Area under ROC: {rfc_auc}\")\n",
    "    print(f\"LG Area under ROC: {lg_auc}\")\n",
    "    print(f\"XGB Area under ROC: {xgb_auc}\")"
   ]
  },
  {
   "cell_type": "code",
   "execution_count": null,
   "id": "427eb54e",
   "metadata": {},
   "outputs": [],
   "source": []
  },
  {
   "cell_type": "code",
   "execution_count": 15,
   "id": "a11c0559-19fd-4be4-99c1-3b9f359515a9",
   "metadata": {},
   "outputs": [
    {
     "data": {
      "text/plain": [
       "'The length of stay of the patient between hospital admission and unit admission'"
      ]
     },
     "execution_count": 15,
     "metadata": {},
     "output_type": "execute_result"
    }
   ],
   "source": [
    "wids.iloc[10:20]\n",
    "wids.loc[16, 'Description']"
   ]
  }
 ],
 "metadata": {
  "kernelspec": {
   "display_name": "Python 3 (ipykernel)",
   "language": "python",
   "name": "python3"
  },
  "language_info": {
   "codemirror_mode": {
    "name": "ipython",
    "version": 3
   },
   "file_extension": ".py",
   "mimetype": "text/x-python",
   "name": "python",
   "nbconvert_exporter": "python",
   "pygments_lexer": "ipython3",
   "version": "3.10.10"
  }
 },
 "nbformat": 4,
 "nbformat_minor": 5
}
